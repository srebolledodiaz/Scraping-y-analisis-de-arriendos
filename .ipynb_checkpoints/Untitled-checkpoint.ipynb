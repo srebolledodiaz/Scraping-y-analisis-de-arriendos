{
 "cells": [
  {
   "cell_type": "code",
   "execution_count": 5,
   "id": "bef53bae",
   "metadata": {},
   "outputs": [],
   "source": [
    "myArray = [13,2,4,35,35]"
   ]
  },
  {
   "cell_type": "code",
   "execution_count": 6,
   "id": "bddf567b",
   "metadata": {},
   "outputs": [
    {
     "data": {
      "text/plain": [
       "{2, 4, 13, 35}"
      ]
     },
     "execution_count": 6,
     "metadata": {},
     "output_type": "execute_result"
    }
   ],
   "source": [
    "set(myArray)"
   ]
  },
  {
   "cell_type": "code",
   "execution_count": 7,
   "id": "bbcf3690",
   "metadata": {},
   "outputs": [
    {
     "data": {
      "text/plain": [
       "35"
      ]
     },
     "execution_count": 7,
     "metadata": {},
     "output_type": "execute_result"
    }
   ],
   "source": [
    "max(set(myArray))"
   ]
  },
  {
   "cell_type": "code",
   "execution_count": 8,
   "id": "8b099c90",
   "metadata": {},
   "outputs": [
    {
     "name": "stdout",
     "output_type": "stream",
     "text": [
      "35\n"
     ]
    }
   ],
   "source": [
    "print(max(set(myArray)))"
   ]
  },
  {
   "cell_type": "code",
   "execution_count": 9,
   "id": "8a18cc16",
   "metadata": {},
   "outputs": [],
   "source": [
    "myArray = ['a', 'b', 'c', 'd', 'd', 'c', 'b', 'a']"
   ]
  },
  {
   "cell_type": "code",
   "execution_count": 11,
   "id": "72182ab7",
   "metadata": {},
   "outputs": [
    {
     "ename": "TypeError",
     "evalue": "'list' object cannot be interpreted as an integer",
     "output_type": "error",
     "traceback": [
      "\u001b[0;31m---------------------------------------------------------------------------\u001b[0m",
      "\u001b[0;31mTypeError\u001b[0m                                 Traceback (most recent call last)",
      "\u001b[0;32m<ipython-input-11-e306f4d2f4f4>\u001b[0m in \u001b[0;36m<module>\u001b[0;34m\u001b[0m\n\u001b[0;32m----> 1\u001b[0;31m \u001b[0;32mfor\u001b[0m \u001b[0mi\u001b[0m \u001b[0;32min\u001b[0m \u001b[0mrange\u001b[0m\u001b[0;34m(\u001b[0m\u001b[0mmyArray\u001b[0m\u001b[0;34m)\u001b[0m\u001b[0;34m:\u001b[0m\u001b[0;34m\u001b[0m\u001b[0;34m\u001b[0m\u001b[0m\n\u001b[0m\u001b[1;32m      2\u001b[0m     \u001b[0my\u001b[0m\u001b[0;34m=\u001b[0m\u001b[0;34m-\u001b[0m\u001b[0mi\u001b[0m\u001b[0;34m-\u001b[0m\u001b[0;36m1\u001b[0m\u001b[0;34m\u001b[0m\u001b[0;34m\u001b[0m\u001b[0m\n\u001b[1;32m      3\u001b[0m     \u001b[0;32mif\u001b[0m \u001b[0mmyArray\u001b[0m\u001b[0;34m[\u001b[0m\u001b[0mi\u001b[0m\u001b[0;34m]\u001b[0m \u001b[0;34m!=\u001b[0m \u001b[0mmyArray\u001b[0m\u001b[0;34m[\u001b[0m\u001b[0mi\u001b[0m\u001b[0;34m-\u001b[0m\u001b[0my\u001b[0m\u001b[0;34m]\u001b[0m\u001b[0;34m:\u001b[0m\u001b[0;34m\u001b[0m\u001b[0;34m\u001b[0m\u001b[0m\n\u001b[1;32m      4\u001b[0m         \u001b[0mprint\u001b[0m\u001b[0;34m(\u001b[0m\u001b[0;34m'Asymmetric'\u001b[0m\u001b[0;34m)\u001b[0m\u001b[0;34m\u001b[0m\u001b[0;34m\u001b[0m\u001b[0m\n",
      "\u001b[0;31mTypeError\u001b[0m: 'list' object cannot be interpreted as an integer"
     ]
    }
   ],
   "source": [
    "for i in range(myArray):\n",
    "    y=-i-1\n",
    "    if myArray[i] != myArray[i-y]:\n",
    "        print('Asymmetric')"
   ]
  },
  {
   "cell_type": "code",
   "execution_count": 12,
   "id": "76f36679",
   "metadata": {},
   "outputs": [
    {
     "data": {
      "text/plain": [
       "'****'"
      ]
     },
     "execution_count": 12,
     "metadata": {},
     "output_type": "execute_result"
    }
   ],
   "source": [
    "('*')*4"
   ]
  },
  {
   "cell_type": "code",
   "execution_count": 13,
   "id": "d46c0709",
   "metadata": {},
   "outputs": [],
   "source": [
    "myArray = [1,2,1,3,3,1,2,1,5,1]"
   ]
  },
  {
   "cell_type": "code",
   "execution_count": 22,
   "id": "84927926",
   "metadata": {},
   "outputs": [
    {
     "name": "stdout",
     "output_type": "stream",
     "text": [
      "1: *****\n",
      "2: **\n",
      "3: **\n",
      "4: \n",
      "5: *\n"
     ]
    }
   ],
   "source": [
    "for i in range(1,6):\n",
    "    count_number = myArray.count(i)\n",
    "    print(f'{i}:' ,('*')*count_number)"
   ]
  },
  {
   "cell_type": "code",
   "execution_count": 23,
   "id": "c6913ceb",
   "metadata": {},
   "outputs": [],
   "source": [
    "myArray = ['a', 'b', 'c', 'd', 'd', 'c', 'b', 'a']"
   ]
  },
  {
   "cell_type": "code",
   "execution_count": 26,
   "id": "4da2b071",
   "metadata": {},
   "outputs": [
    {
     "data": {
      "text/plain": [
       "4.0"
      ]
     },
     "execution_count": 26,
     "metadata": {},
     "output_type": "execute_result"
    }
   ],
   "source": [
    "len(myArray)/2"
   ]
  },
  {
   "cell_type": "code",
   "execution_count": 31,
   "id": "cdd409ba",
   "metadata": {},
   "outputs": [
    {
     "name": "stdout",
     "output_type": "stream",
     "text": [
      "0\n",
      "1\n",
      "2\n",
      "3\n"
     ]
    }
   ],
   "source": [
    "for i in range(int(len(myArray)/2)):\n",
    "    if myArray[i] != myArray[-1-i]:\n",
    "        print('Asymmetric')"
   ]
  },
  {
   "cell_type": "code",
   "execution_count": null,
   "id": "7f79238e",
   "metadata": {},
   "outputs": [],
   "source": []
  }
 ],
 "metadata": {
  "kernelspec": {
   "display_name": "Python 3",
   "language": "python",
   "name": "python3"
  },
  "language_info": {
   "codemirror_mode": {
    "name": "ipython",
    "version": 3
   },
   "file_extension": ".py",
   "mimetype": "text/x-python",
   "name": "python",
   "nbconvert_exporter": "python",
   "pygments_lexer": "ipython3",
   "version": "3.8.8"
  }
 },
 "nbformat": 4,
 "nbformat_minor": 5
}
