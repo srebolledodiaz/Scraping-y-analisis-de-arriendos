{
 "cells": [
  {
   "cell_type": "code",
   "execution_count": 5,
   "id": "42fbb128",
   "metadata": {},
   "outputs": [],
   "source": [
    "myArray = [13,2,4,35,35]"
   ]
  },
  {
   "cell_type": "code",
   "execution_count": 6,
   "id": "c8cd7001",
   "metadata": {},
   "outputs": [
    {
     "data": {
      "text/plain": [
       "{2, 4, 13, 35}"
      ]
     },
     "execution_count": 6,
     "metadata": {},
     "output_type": "execute_result"
    }
   ],
   "source": [
    "set(myArray)"
   ]
  },
  {
   "cell_type": "code",
   "execution_count": 7,
   "id": "cdb9c3f2",
   "metadata": {},
   "outputs": [
    {
     "data": {
      "text/plain": [
       "35"
      ]
     },
     "execution_count": 7,
     "metadata": {},
     "output_type": "execute_result"
    }
   ],
   "source": [
    "max(set(myArray))"
   ]
  },
  {
   "cell_type": "code",
   "execution_count": 8,
   "id": "2961fde1",
   "metadata": {},
   "outputs": [
    {
     "name": "stdout",
     "output_type": "stream",
     "text": [
      "35\n"
     ]
    }
   ],
   "source": [
    "print(max(set(myArray)))"
   ]
  },
  {
   "cell_type": "code",
   "execution_count": 9,
   "id": "b659e4c5",
   "metadata": {},
   "outputs": [],
   "source": [
    "myArray = ['a', 'b', 'c', 'd', 'd', 'c', 'b', 'a']"
   ]
  },
  {
   "cell_type": "code",
   "execution_count": 11,
   "id": "2bd9f108",
   "metadata": {},
   "outputs": [
    {
     "ename": "TypeError",
     "evalue": "'list' object cannot be interpreted as an integer",
     "output_type": "error",
     "traceback": [
      "\u001b[0;31m---------------------------------------------------------------------------\u001b[0m",
      "\u001b[0;31mTypeError\u001b[0m                                 Traceback (most recent call last)",
      "\u001b[0;32m<ipython-input-11-e306f4d2f4f4>\u001b[0m in \u001b[0;36m<module>\u001b[0;34m\u001b[0m\n\u001b[0;32m----> 1\u001b[0;31m \u001b[0;32mfor\u001b[0m \u001b[0mi\u001b[0m \u001b[0;32min\u001b[0m \u001b[0mrange\u001b[0m\u001b[0;34m(\u001b[0m\u001b[0mmyArray\u001b[0m\u001b[0;34m)\u001b[0m\u001b[0;34m:\u001b[0m\u001b[0;34m\u001b[0m\u001b[0;34m\u001b[0m\u001b[0m\n\u001b[0m\u001b[1;32m      2\u001b[0m     \u001b[0my\u001b[0m\u001b[0;34m=\u001b[0m\u001b[0;34m-\u001b[0m\u001b[0mi\u001b[0m\u001b[0;34m-\u001b[0m\u001b[0;36m1\u001b[0m\u001b[0;34m\u001b[0m\u001b[0;34m\u001b[0m\u001b[0m\n\u001b[1;32m      3\u001b[0m     \u001b[0;32mif\u001b[0m \u001b[0mmyArray\u001b[0m\u001b[0;34m[\u001b[0m\u001b[0mi\u001b[0m\u001b[0;34m]\u001b[0m \u001b[0;34m!=\u001b[0m \u001b[0mmyArray\u001b[0m\u001b[0;34m[\u001b[0m\u001b[0mi\u001b[0m\u001b[0;34m-\u001b[0m\u001b[0my\u001b[0m\u001b[0;34m]\u001b[0m\u001b[0;34m:\u001b[0m\u001b[0;34m\u001b[0m\u001b[0;34m\u001b[0m\u001b[0m\n\u001b[1;32m      4\u001b[0m         \u001b[0mprint\u001b[0m\u001b[0;34m(\u001b[0m\u001b[0;34m'Asymmetric'\u001b[0m\u001b[0;34m)\u001b[0m\u001b[0;34m\u001b[0m\u001b[0;34m\u001b[0m\u001b[0m\n",
      "\u001b[0;31mTypeError\u001b[0m: 'list' object cannot be interpreted as an integer"
     ]
    }
   ],
   "source": [
    "for i in range(myArray):\n",
    "    y=-i-1\n",
    "    if myArray[i] != myArray[i-y]:\n",
    "        print('Asymmetric')"
   ]
  },
  {
   "cell_type": "code",
   "execution_count": 12,
   "id": "2741ad31",
   "metadata": {},
   "outputs": [
    {
     "data": {
      "text/plain": [
       "'****'"
      ]
     },
     "execution_count": 12,
     "metadata": {},
     "output_type": "execute_result"
    }
   ],
   "source": [
    "('*')*4"
   ]
  },
  {
   "cell_type": "code",
   "execution_count": 13,
   "id": "2a500f43",
   "metadata": {},
   "outputs": [],
   "source": [
    "myArray = [1,2,1,3,3,1,2,1,5,1]"
   ]
  },
  {
   "cell_type": "code",
   "execution_count": 22,
   "id": "54279b9d",
   "metadata": {},
   "outputs": [
    {
     "name": "stdout",
     "output_type": "stream",
     "text": [
      "1: *****\n",
      "2: **\n",
      "3: **\n",
      "4: \n",
      "5: *\n"
     ]
    }
   ],
   "source": [
    "for i in range(1,6):\n",
    "    count_number = myArray.count(i)\n",
    "    print(f'{i}:' ,('*')*count_number)"
   ]
  },
  {
   "cell_type": "code",
   "execution_count": 36,
   "id": "b5c234fa",
   "metadata": {},
   "outputs": [],
   "source": [
    "myArray = ['a', 'b', 'c', 'd', 'd', 'c', 'b', 'a','a','a']"
   ]
  },
  {
   "cell_type": "code",
   "execution_count": 37,
   "id": "61adb0ab",
   "metadata": {},
   "outputs": [
    {
     "data": {
      "text/plain": [
       "5.0"
      ]
     },
     "execution_count": 37,
     "metadata": {},
     "output_type": "execute_result"
    }
   ],
   "source": [
    "len(myArray)/2"
   ]
  },
  {
   "cell_type": "code",
   "execution_count": 38,
   "id": "d62d67f3",
   "metadata": {},
   "outputs": [
    {
     "name": "stdout",
     "output_type": "stream",
     "text": [
      "Asymmetric\n"
     ]
    }
   ],
   "source": [
    "value = 'Symmetric'\n",
    "for i in range(int(len(myArray)/2)):\n",
    "    if myArray[i] != myArray[-1-i]:\n",
    "        value = 'Asymmetric'\n",
    "print(value)"
   ]
  },
  {
   "cell_type": "code",
   "execution_count": 46,
   "id": "3c547d54",
   "metadata": {},
   "outputs": [],
   "source": [
    "equis = list('_'*n)"
   ]
  },
  {
   "cell_type": "code",
   "execution_count": 47,
   "id": "b164dade",
   "metadata": {},
   "outputs": [
    {
     "data": {
      "text/plain": [
       "['_', '_', '_', '_', '_', '_']"
      ]
     },
     "execution_count": 47,
     "metadata": {},
     "output_type": "execute_result"
    }
   ],
   "source": [
    "equis"
   ]
  },
  {
   "cell_type": "code",
   "execution_count": 48,
   "id": "dccad726",
   "metadata": {},
   "outputs": [],
   "source": [
    "equis[0] = 'x'"
   ]
  },
  {
   "cell_type": "code",
   "execution_count": 49,
   "id": "accb9f21",
   "metadata": {},
   "outputs": [
    {
     "data": {
      "text/plain": [
       "['x', '_', '_', '_', '_', '_']"
      ]
     },
     "execution_count": 49,
     "metadata": {},
     "output_type": "execute_result"
    }
   ],
   "source": [
    "equis"
   ]
  },
  {
   "cell_type": "code",
   "execution_count": 84,
   "id": "82382cdc",
   "metadata": {},
   "outputs": [],
   "source": [
    "n=3"
   ]
  },
  {
   "cell_type": "code",
   "execution_count": 85,
   "id": "e2134212",
   "metadata": {},
   "outputs": [
    {
     "name": "stdout",
     "output_type": "stream",
     "text": [
      "x_x\n",
      "__x\n",
      "_x_\n"
     ]
    }
   ],
   "source": [
    "if n == 0:\n",
    "    print(\"ERROR\")\n",
    "else:\n",
    "    for i in range(int((n)/2)):\n",
    "        equis = list('_'*n)\n",
    "        equis[i]= 'x'\n",
    "        equis[-i-1] = 'x'\n",
    "        print(''.join(equis))\n",
    "    if n%2 == 1:\n",
    "        equis = list('_'*n)\n",
    "        equis[round(n/2)]='x'\n",
    "        print(''.join(equis))\n",
    "        for i in range(int((n)/2)): \n",
    "            equis = list('_'*n)\n",
    "            equis[-i+1]= 'x'\n",
    "            equis[i-2] = 'x'\n",
    "            print(''.join(equis))\n",
    "    else:\n",
    "        for i in range(int((n)/2)): \n",
    "            equis = list('_'*n)\n",
    "            equis[-i+2]= 'x'\n",
    "            equis[i-3] = 'x'\n",
    "            print(''.join(equis))"
   ]
  },
  {
   "cell_type": "code",
   "execution_count": 71,
   "id": "6332b352",
   "metadata": {},
   "outputs": [
    {
     "name": "stdout",
     "output_type": "stream",
     "text": [
      "__x__\n",
      "_x_x_\n",
      "x___x\n"
     ]
    }
   ],
   "source": [
    "if n%2 == 1:\n",
    "    equis = list('_'*n)\n",
    "    equis[round(n/2)]='x'\n",
    "    print(''.join(equis))\n",
    "for i in range(int((n)/2)): \n",
    "    equis = list('_'*n)\n",
    "    equis[-i+1]= 'x'\n",
    "    equis[i-2] = 'x'\n",
    "    print(''.join(equis))"
   ]
  },
  {
   "cell_type": "code",
   "execution_count": null,
   "id": "0b70458e",
   "metadata": {},
   "outputs": [],
   "source": [
    "for i in range(int((n)/2)): \n",
    "    equis = list('_'*n)\n",
    "    equis[-i+2]= 'x'\n",
    "    equis[i-3] = 'x'\n",
    "    print(''.join(equis))"
   ]
  },
  {
   "cell_type": "code",
   "execution_count": 88,
   "id": "3c0b3a96",
   "metadata": {},
   "outputs": [],
   "source": [
    "n=7"
   ]
  },
  {
   "cell_type": "code",
   "execution_count": 91,
   "id": "4fcdb811",
   "metadata": {},
   "outputs": [
    {
     "name": "stdout",
     "output_type": "stream",
     "text": [
      "X_____X\n",
      "_X___X_\n",
      "__X_X__\n",
      "____X__\n",
      "_X___X_\n",
      "X_____X\n",
      "X_____X\n"
     ]
    }
   ],
   "source": [
    "letra = 'X'\n",
    "if n == 0:\n",
    "    print(\"ERROR\")\n",
    "else:\n",
    "    for i in range(int((n)/2)):\n",
    "        equis = list('_'*n)\n",
    "        equis[i]= letra\n",
    "        equis[-i-1] = letra\n",
    "        print(''.join(equis))\n",
    "    if n%2 == 1:\n",
    "        equis = list('_'*n)\n",
    "        equis[round(n/2)]=letra\n",
    "        print(''.join(equis))\n",
    "        for i in range(int((n)/2)): \n",
    "            equis = list('_'*n)\n",
    "            equis[-i+1]= letra\n",
    "            equis[i-2] = letra\n",
    "            print(''.join(equis))\n",
    "    else:\n",
    "        for i in range(int((n)/2)): \n",
    "            equis = list('_'*n)\n",
    "            equis[-i+2]= letra\n",
    "            equis[i-3] = letra\n",
    "            print(''.join(equis))"
   ]
  },
  {
   "cell_type": "code",
   "execution_count": 90,
   "id": "72449d26",
   "metadata": {},
   "outputs": [
    {
     "data": {
      "text/plain": [
       "4"
      ]
     },
     "execution_count": 90,
     "metadata": {},
     "output_type": "execute_result"
    }
   ],
   "source": [
    "round(n/2)"
   ]
  },
  {
   "cell_type": "code",
   "execution_count": 92,
   "id": "aebda52b",
   "metadata": {},
   "outputs": [],
   "source": [
    "myArray = [1,2,2,4,5,6,7,8,8,8]"
   ]
  },
  {
   "cell_type": "code",
   "execution_count": 101,
   "id": "ac781adc",
   "metadata": {},
   "outputs": [
    {
     "name": "stdout",
     "output_type": "stream",
     "text": [
      "{}\n",
      "{}\n",
      "{}\n",
      "{}\n"
     ]
    }
   ],
   "source": [
    "count={}\n",
    "for i in range(len(myArray)):\n",
    "    try:\n",
    "        if myArray[i] == myArray[i+1]:\n",
    "            if count[myArray[i]] is count:\n",
    "                count[myArray[i]]= count[myArray[i]]+1\n",
    "            else:\n",
    "                count[myArray[i]]= 1\n",
    "    except:\n",
    "        print(count)"
   ]
  },
  {
   "cell_type": "code",
   "execution_count": 102,
   "id": "aacd9b10",
   "metadata": {},
   "outputs": [
    {
     "ename": "IndexError",
     "evalue": "list index out of range",
     "output_type": "error",
     "traceback": [
      "\u001b[0;31m---------------------------------------------------------------------------\u001b[0m",
      "\u001b[0;31mIndexError\u001b[0m                                Traceback (most recent call last)",
      "\u001b[0;32m<ipython-input-102-08c6d5491cf2>\u001b[0m in \u001b[0;36m<module>\u001b[0;34m\u001b[0m\n\u001b[0;32m----> 1\u001b[0;31m \u001b[0mmyArray\u001b[0m\u001b[0;34m[\u001b[0m\u001b[0mi\u001b[0m\u001b[0;34m]\u001b[0m \u001b[0;34m==\u001b[0m \u001b[0mmyArray\u001b[0m\u001b[0;34m[\u001b[0m\u001b[0mi\u001b[0m\u001b[0;34m+\u001b[0m\u001b[0;36m1\u001b[0m\u001b[0;34m]\u001b[0m\u001b[0;34m\u001b[0m\u001b[0;34m\u001b[0m\u001b[0m\n\u001b[0m",
      "\u001b[0;31mIndexError\u001b[0m: list index out of range"
     ]
    }
   ],
   "source": [
    "myArray[i] == myArray[i+1]"
   ]
  },
  {
   "cell_type": "code",
   "execution_count": null,
   "id": "881c6f91",
   "metadata": {},
   "outputs": [],
   "source": []
  }
 ],
 "metadata": {
  "kernelspec": {
   "display_name": "Python 3",
   "language": "python",
   "name": "python3"
  },
  "language_info": {
   "codemirror_mode": {
    "name": "ipython",
    "version": 3
   },
   "file_extension": ".py",
   "mimetype": "text/x-python",
   "name": "python",
   "nbconvert_exporter": "python",
   "pygments_lexer": "ipython3",
   "version": "3.8.8"
  }
 },
 "nbformat": 4,
 "nbformat_minor": 5
}
